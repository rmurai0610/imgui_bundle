{
 "cells": [
  {
   "cell_type": "markdown",
   "metadata": {},
   "source": [
    "# An example with ImPlot (Bar plot)"
   ]
  },
  {
   "cell_type": "code",
   "execution_count": null,
   "metadata": {},
   "outputs": [],
   "source": [
    "import imgui_bundle\n",
    "from imgui_bundle import implot, imgui, imgui_knobs, immapp, immvision\n",
    "from imgui_bundle.demos_python import demo_utils\n",
    "import time\n",
    "\n",
    "import numpy as np\n",
    "import cv2\n",
    "\n",
    "lin = np.array([8, 8, 9, 7, 8, 8, 8, 9, 7, 8])\n",
    "bar = np.array([1, 2, 5, 3, 4, 1, 2, 5, 3, 4])\n",
    "dot = np.array([7, 6, 6, 7, 8, 5, 6, 5, 8, 7])\n",
    "\n",
    "\n",
    "def mixed_plot():\n",
    "    imgui.style_colors_light()\n",
    "    if implot.begin_plot(\"Mixed plot\"):\n",
    "        implot.setup_axes(\"x-axis\", \"y-axis\")\n",
    "        implot.setup_axes_limits(-0.5, 9.5, 0, 10)\n",
    "        implot.plot_bars(\"Bars\", bar, 0.5)\n",
    "        implot.plot_line(\"Line\", lin)\n",
    "        implot.plot_scatter(\"Scatter\", dot)\n",
    "        implot.end_plot()\n",
    "\n",
    "\n",
    "immapp.run_nb(mixed_plot, window_size=(800, 300), thumbnail_height=300)"
   ]
  },
  {
   "cell_type": "markdown",
   "metadata": {},
   "source": [
    "# Another example with ImPlot (heart haiku) "
   ]
  },
  {
   "cell_type": "code",
   "execution_count": null,
   "metadata": {},
   "outputs": [],
   "source": [
    "def haiku_heart():\n",
    "    vals = np.arange(0, np.pi * 2, 0.01)\n",
    "    x = np.power(np.sin(vals), 3) * 16\n",
    "    y = (\n",
    "        13 * np.cos(vals)\n",
    "        - 5 * np.cos(2 * vals)\n",
    "        - 2 * np.cos(3 * vals)\n",
    "        - np.cos(4 * vals)\n",
    "    )\n",
    "\n",
    "    phase = 0\n",
    "    t0 = time.time() + 0.2\n",
    "    heart_pulse_rate = 80\n",
    "\n",
    "    def gui():\n",
    "        nonlocal heart_pulse_rate, phase, t0\n",
    "        t = time.time()\n",
    "        phase += (t - t0) * heart_pulse_rate / (np.pi * 2)\n",
    "        k = 0.8 + 0.1 * np.cos(phase)\n",
    "        t0 = t\n",
    "        imgui.text(\"Bloat free code\")\n",
    "        implot.begin_plot(\"Heart\")\n",
    "        implot.plot_line(\"\", x * k, y * k)\n",
    "        implot.end_plot()\n",
    "        _, heart_pulse_rate = imgui_knobs.knob(\"Pulse\", heart_pulse_rate, 30, 180)\n",
    "\n",
    "    immapp.run_nb(gui, window_size=(300, 450), fps_idle=20, thumbnail_ratio=0.25)\n",
    "\n",
    "\n",
    "haiku_heart()"
   ]
  },
  {
   "cell_type": "markdown",
   "metadata": {},
   "source": [
    "# An example with immvision.image\n",
    "\n",
    "Adapted from an OpenCV example: https://docs.opencv.org/4.x/d5/db5/tutorial_laplace_operator.html\n",
    "\n",
    "`immvision.image(label, image, params)` displays an image with an options panel giving extensive visualisation options."
   ]
  },
  {
   "cell_type": "code",
   "execution_count": null,
   "metadata": {},
   "outputs": [],
   "source": [
    "from imgui_bundle import imgui, immapp, immvision\n",
    "from imgui_bundle.demos_python import demo_utils\n",
    "import cv2\n",
    "import random as rng\n",
    "import numpy as np\n",
    "from numpy.typing import NDArray\n",
    "\n",
    "\n",
    "# First, lets define `LaplacianData` (a class that contains an image and its laplacian)\n",
    "class LaplacianData:\n",
    "    src_gray: NDArray[float]\n",
    "    laplacian: NDArray[float]\n",
    "\n",
    "    blur_half_size: int = 1\n",
    "    kernel_half_size: int = 1\n",
    "\n",
    "    params: immvision.ImageParams\n",
    "\n",
    "    def __init__(self, image_file: str):\n",
    "        img = cv2.imread(image_file)\n",
    "        img = cv2.resize(img, dsize=None, fx=0.5, fy=0.5)\n",
    "        gray_uint8 = cv2.cvtColor(img, cv2.COLOR_BGR2GRAY)\n",
    "        self.src_gray = gray_uint8 / 255.0\n",
    "        self.update_laplacian()\n",
    "\n",
    "        self.params = immvision.ImageParams()\n",
    "        self.params.image_display_size = (400, 0)\n",
    "        self.params.show_options_panel = True\n",
    "\n",
    "    def update_laplacian(self):\n",
    "        ddepth = cv2.CV_64F\n",
    "        blur_width = self.blur_half_size * 2 + 1\n",
    "        kernel_size = self.kernel_half_size * 2 + 1\n",
    "        blur = cv2.GaussianBlur(self.src_gray, (blur_width, blur_width), 0)\n",
    "        self.laplacian = cv2.Laplacian(blur, ddepth, ksize=kernel_size)\n",
    "\n",
    "\n",
    "# Then let's define `gui_laplacian` (a gui that display and manipulates LaplacianData)\n",
    "def gui_laplacian(data: LaplacianData):\n",
    "    changed1, data.blur_half_size = imgui.slider_int(\n",
    "        \"Blur half size\", data.blur_half_size, 1, 10\n",
    "    )\n",
    "    changed2, data.kernel_half_size = imgui.slider_int(\n",
    "        \"Kernel half size\", data.kernel_half_size, 1, 10\n",
    "    )\n",
    "    changed = changed1 or changed2\n",
    "    if changed:\n",
    "        data.update_laplacian()\n",
    "    data.params.refresh_image = changed\n",
    "    immvision.image(\"Laplacian\", data.laplacian, data.params)\n",
    "\n",
    "\n",
    "# Then, let's instantiate our LaplacianData\n",
    "laplacian_data = LaplacianData(demo_utils.demos_assets_folder() + \"/images/house.jpg\")\n",
    "\n",
    "\n",
    "# Finally, define a parameterless gui function from it\n",
    "def my_gui_laplacian():\n",
    "    gui_laplacian(laplacian_data)"
   ]
  },
  {
   "cell_type": "markdown",
   "metadata": {},
   "source": [
    "Then, let's display and manipulate our laplacian. Since it is a float matrix, you can apply ColorMaps to it in the options panel"
   ]
  },
  {
   "cell_type": "code",
   "execution_count": null,
   "metadata": {},
   "outputs": [],
   "source": [
    "immapp.run_nb(my_gui_laplacian, thumbnail_ratio=0.5)"
   ]
  },
  {
   "cell_type": "markdown",
   "metadata": {},
   "source": [
    "# An example with immvision.image_display (canny contours)\n",
    "\n",
    "Adaptation of an OpenCV example: https://docs.opencv.org/4.x/df/d0d/tutorial_find_contours.html\n",
    "\n",
    "`immvision.image_display(label, image, size, shall_refresh)` simply displays an image "
   ]
  },
  {
   "cell_type": "code",
   "execution_count": null,
   "metadata": {},
   "outputs": [],
   "source": [
    "from imgui_bundle import imgui, immapp, immvision\n",
    "from imgui_bundle.demos_python import demo_utils\n",
    "import cv2\n",
    "import random as rng\n",
    "import numpy as np\n",
    "from numpy.typing import NDArray\n",
    "\n",
    "\n",
    "# First, lets define `BlurData` (a class that contains an image and its contours)\n",
    "class BlurData:\n",
    "    src_gray: NDArray[np.uint8]\n",
    "    contours: NDArray[np.uint8]\n",
    "    thresh: int = 100\n",
    "\n",
    "    def __init__(self, image_file: str):\n",
    "        img = cv2.imread(image_file)\n",
    "        img = cv2.resize(img, dsize=None, fx=0.5, fy=0.5)\n",
    "        self.src_gray = cv2.cvtColor(img, cv2.COLOR_BGR2GRAY)\n",
    "        self.update_contours()\n",
    "\n",
    "    def update_contours(self):\n",
    "        canny_output = cv2.Canny(self.src_gray, self.thresh, self.thresh * 2)\n",
    "        contours, hierarchy = cv2.findContours(\n",
    "            canny_output, cv2.RETR_TREE, cv2.CHAIN_APPROX_SIMPLE\n",
    "        )\n",
    "        self.contours = np.zeros(\n",
    "            (canny_output.shape[0], canny_output.shape[1], 3), dtype=np.uint8\n",
    "        )\n",
    "        for i in range(len(contours)):\n",
    "            color = (rng.randint(0, 256), rng.randint(0, 256), rng.randint(0, 256))\n",
    "            cv2.drawContours(\n",
    "                self.contours, contours, i, color, 2, cv2.LINE_8, hierarchy, 0\n",
    "            )\n",
    "\n",
    "\n",
    "# Then let's define `gui_blur` (a gui that display and manipulates BlurData)\n",
    "def gui_blur(blur_data: BlurData):\n",
    "    min_thresh = 20\n",
    "    max_thresh = 500\n",
    "    image_display_size = (400, 0)\n",
    "    changed, blur_data.thresh = imgui.slider_int(\n",
    "        \"Canny thresh\", blur_data.thresh, min_thresh, max_thresh\n",
    "    )\n",
    "    if changed:\n",
    "        blur_data.update_contours()\n",
    "    immvision.image_display(\"img\", blur_data.src_gray, image_display_size)\n",
    "    imgui.same_line()\n",
    "    immvision.image_display(\"contours\", blur_data.contours, image_display_size, changed)\n",
    "\n",
    "\n",
    "# Then, let's instantiate BlurData\n",
    "blur_data = BlurData(demo_utils.demos_assets_folder() + \"/images/house.jpg\")\n",
    "\n",
    "# Finally, define a parameterless gui function from it\n",
    "def gui():\n",
    "    gui_blur(blur_data)"
   ]
  },
  {
   "cell_type": "markdown",
   "metadata": {},
   "source": [
    "Then, let's display and manipulate our contours:"
   ]
  },
  {
   "cell_type": "code",
   "execution_count": null,
   "metadata": {},
   "outputs": [],
   "source": [
    "immapp.run_nb(gui, thumbnail_height=300)"
   ]
  },
  {
   "cell_type": "code",
   "execution_count": null,
   "metadata": {},
   "outputs": [],
   "source": []
  }
 ],
 "metadata": {
  "language_info": {
   "name": "python",
   "pygments_lexer": "ipython3"
  }
 },
 "nbformat": 4,
 "nbformat_minor": 4
}
